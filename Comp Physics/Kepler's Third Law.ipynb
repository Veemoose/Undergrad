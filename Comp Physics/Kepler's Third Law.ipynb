{
 "cells": [
  {
   "cell_type": "code",
   "execution_count": 1,
   "metadata": {
    "deletable": false,
    "nbgrader": {
     "cell_type": "code",
     "checksum": "560d9bdcb695c46609552b6dcc0a5d72",
     "grade": false,
     "grade_id": "cell-acd067a3edcf1696",
     "locked": false,
     "schema_version": 3,
     "solution": true,
     "task": false
    }
   },
   "outputs": [],
   "source": [
    "import numpy as np\n",
    "import matplotlib.pyplot as plt"
   ]
  },
  {
   "cell_type": "markdown",
   "metadata": {
    "deletable": false,
    "editable": true,
    "nbgrader": {
     "cell_type": "markdown",
     "checksum": "293ae8f028eab6202aa60641b533d1e7",
     "grade": false,
     "grade_id": "cell-476563a7f6cd7781",
     "locked": true,
     "schema_version": 3,
     "solution": false,
     "task": false
    }
   },
   "source": [
    "# Kepler's Third Law\n",
    "\n",
    "The file called `exoplanets.csv` contains orbital and physical parameters for 2950 exoplanets."
   ]
  },
  {
   "cell_type": "code",
   "execution_count": 2,
   "metadata": {
    "deletable": false,
    "nbgrader": {
     "cell_type": "code",
     "checksum": "c68bf9686761d4a19dd1e1ba5f624ace",
     "grade": false,
     "grade_id": "cell-ad6652c0fc5ace83",
     "locked": true,
     "schema_version": 3,
     "solution": false,
     "task": false
    }
   },
   "outputs": [],
   "source": [
    "# If the file is not present, download the file from the internet and save it in the working directory\n",
    "import os\n",
    "import urllib.request as url\n",
    "if not os.path.isfile(\"exoplanets.csv\"):\n",
    "    url.urlretrieve(\"http://www.pitt.edu/~djn23/phys1321/exoplanets.csv\", \"exoplanets.csv\")"
   ]
  },
  {
   "cell_type": "markdown",
   "metadata": {},
   "source": [
    "Load the data from this file. The data is organized into three columns:\n",
    "1. MSTAR (the mass of the planet's star)\n",
    "2. A (the semi-major axis of the planet's orbit)\n",
    "3. PER (the period of the planet's orbit)\n",
    "\n",
    "Numpy's genfromtxt is used to read the data, as it replaces missing data with \"NaN\", which will automatically ignored when the data is plotted later.\n",
    "\n",
    "The next goal is to verify Kepler's 3rd Law, which states that\n",
    "$$T^2\\propto\\frac{a^3}{M}\\,,$$\n",
    "where $T$ is the period of the orbit, $a$ is the semimajor axis, and $M$ is the mass of the *star*. The proportionality constant is equal to 1 if the units of period are in years, the semi-major axis is in AU (astronomical units), and the mass of the star is in units of solar masses.\n",
    "\n",
    "\n",
    "This can be done by making a simple scatter plot of $a^3/M$ versus $T^2$. Only values of $T$ less than 20 years will be considered in order to reduce the number of data points needed to be plotted."
   ]
  },
  {
   "cell_type": "code",
   "execution_count": 16,
   "metadata": {
    "deletable": false,
    "nbgrader": {
     "cell_type": "code",
     "checksum": "8e1d1dac5a0884f64a3fb0f835f5ad49",
     "grade": true,
     "grade_id": "cell-e5dce29f90dca8dc",
     "locked": false,
     "points": 20,
     "schema_version": 3,
     "solution": true,
     "task": false
    }
   },
   "outputs": [
    {
     "data": {
      "image/png": "[encoded data removed]",
      "text/plain": [
       "<Figure size 432x288 with 1 Axes>"
      ]
     },
     "metadata": {
      "needs_background": "light"
     },
     "output_type": "display_data"
    }
   ],
   "source": [
    "# We are aware of the presence of NaNs in the array\n",
    "# and they are going to be handled by matplotlib, \n",
    "# so we can safely ignore the warning for NaNs\n",
    "np.seterr(invalid=\"ignore\")\n",
    "\n",
    "\"\"\"\n",
    "After the first two lines, all of the data for each object is contained \n",
    "on one line separated by commas, starting with the name of the object.\n",
    "Therefore, we want to extract the second, third, and fourth item on each\n",
    "line, which will be MSTAR, A, and PER respectively.\n",
    "\"\"\"\n",
    "mstar = np.array([])\n",
    "A = np.array([])\n",
    "period = np.array([])\n",
    "data = np.genfromtxt(\"exoplanets.csv\", skip_header = 2, delimiter = ',')\n",
    "\n",
    "for line in data:\n",
    "    line[3] /= 365    # convert days to years for proportionality constant of 1\n",
    "    if line[3] < 20:    # only want periods less than 20 years\n",
    "        mstar = np.append(mstar, line[1])\n",
    "        A = np.append(A, line[2])\n",
    "        period = np.append(period, line[3])\n",
    "\n",
    "y_axis = (A**3)/mstar\n",
    "\n",
    "plt.scatter(np.square(period), y_axis, color = 'r', marker = 'x', label = 'Data')\n",
    "# plot the line y = x\n",
    "plt.plot(np.linspace(0, 400, 100), np.linspace(0, 400, 100), 'k--', label = 'Expected relationship')\n",
    "plt.xlabel(\"${T^{2}}$\", fontsize = 16)\n",
    "plt.ylabel(\"$\\\\frac{a^{3}}{M}$\", fontsize = 20)\n",
    "plt.legend()\n",
    "plt.show()"
   ]
  },
  {
   "cell_type": "markdown",
   "metadata": {},
   "source": [
    "As is evident by the plot, the two data sets follow a linear relation, verifying the proportionality proposed by Kepler's Third Law."
   ]
  }
 ],
 "metadata": {
  "kernelspec": {
   "display_name": "Python 3",
   "language": "python",
   "name": "python3"
  },
  "language_info": {
   "codemirror_mode": {
    "name": "ipython",
    "version": 3
   },
   "file_extension": ".py",
   "mimetype": "text/x-python",
   "name": "python",
   "nbconvert_exporter": "python",
   "pygments_lexer": "ipython3",
   "version": "3.7.4"
  }
 },
 "nbformat": 4,
 "nbformat_minor": 4
}
