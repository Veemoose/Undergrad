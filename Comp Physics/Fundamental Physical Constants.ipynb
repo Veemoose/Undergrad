{
 "cells": [
  {
   "cell_type": "markdown",
   "metadata": {},
   "source": [
    "# Fundamental Physical Constants\n",
    "\n",
    "[NIST](https://physics.nist.gov/cuu/Constants/index.html) maintains a list of the values of all known physical constants. The code bellow will load that data into a very large string called `data`."
   ]
  },
  {
   "cell_type": "code",
   "execution_count": null,
   "metadata": {},
   "outputs": [],
   "source": [
    "import urllib.request as url\n",
    "data = url.urlopen(\"https://physics.nist.gov/cuu/Constants/Table/allascii.txt\").read()\n",
    "data = data.decode(\"utf-8\")"
   ]
  },
  {
   "cell_type": "code",
   "execution_count": null,
   "metadata": {},
   "outputs": [],
   "source": [
    "with open(\"allascii.txt\", \"w\") as file:\n",
    "    file.write(data)"
   ]
  },
  {
   "cell_type": "markdown",
   "metadata": {},
   "source": [
    "Find the physical constant with the largest fractional uncertainty, i.e. uncertainty dvided by the constant itself."
   ]
  },
  {
   "cell_type": "code",
   "execution_count": null,
   "metadata": {},
   "outputs": [],
   "source": [
    "constantList = data.splitlines()                     # split up text file by each line and create array\n",
    "constantList = constantList[11:]                     # remove header, constantList is now only the physical constants\n",
    "maxUncertainty = [\"\", 0]\n",
    "\n",
    "for line in constantList:\n",
    "    name = line[:60].rstrip()                        # the first 60 characters of each line contain only the name of the constant\n",
    "    value = line[60:85].replace(\" \", \"\")             # the next 25 characters of each line contain only the value; delete spaces\n",
    "    value = float(value.replace(\"...\", \"\"))          # delete trailing ellipsis that indicate the value's digits continues on \n",
    "    try:                                                           \n",
    "        uncertainty = float(line[85:110].replace(\" \", \"\"))         # the next 25 characters of each line contain only the uncertainty\n",
    "    except:\n",
    "        uncertainty = 0                              # some uncertainties are \"(exact)\" i.e. there is no uncertainty\n",
    "    fracUncert = uncertainty/value\n",
    "    if(fracUncert > maxUncertainty[1]):\n",
    "        maxUncertainty[0] = name\n",
    "        maxUncertainty[1] = fracUncert\n",
    "    \n",
    "print(\"The \" + maxUncertainty[0] + \" has the maximum fractional uncertainty, of which the value is \" + str(maxUncertainty[1]))"
   ]
  }
 ],
 "metadata": {
  "kernelspec": {
   "display_name": "Python 3",
   "language": "python",
   "name": "python3"
  },
  "language_info": {
   "codemirror_mode": {
    "name": "ipython",
    "version": 3
   },
   "file_extension": ".py",
   "mimetype": "text/x-python",
   "name": "python",
   "nbconvert_exporter": "python",
   "pygments_lexer": "ipython3",
   "version": "3.7.4"
  }
 },
 "nbformat": 4,
 "nbformat_minor": 4
}
